{
 "cells": [
  {
   "cell_type": "code",
   "execution_count": 2,
   "metadata": {},
   "outputs": [],
   "source": [
    "import pandas as pd\n",
    "\n",
    "import json\n",
    "import os"
   ]
  },
  {
   "cell_type": "code",
   "execution_count": 14,
   "metadata": {},
   "outputs": [],
   "source": [
    "columns_payment = ['ClientId', 'AcquisitionDate', 'PaymentValue', 'Plan']\n",
    "df_payment = pd.read_csv('../data/payments.csv', names=columns_payment)"
   ]
  },
  {
   "cell_type": "code",
   "execution_count": 15,
   "metadata": {},
   "outputs": [
    {
     "name": "stdout",
     "output_type": "stream",
     "text": [
      "<class 'pandas.core.frame.DataFrame'>\n",
      "RangeIndex: 95476 entries, 0 to 95475\n",
      "Data columns (total 4 columns):\n",
      "ClientId           95476 non-null int64\n",
      "AcquisitionDate    95476 non-null object\n",
      "PaymentValue       95476 non-null object\n",
      "Plan               95476 non-null object\n",
      "dtypes: int64(1), object(3)\n",
      "memory usage: 2.9+ MB\n"
     ]
    }
   ],
   "source": [
    "df_payment.info()"
   ]
  },
  {
   "cell_type": "code",
   "execution_count": 16,
   "metadata": {},
   "outputs": [
    {
     "data": {
      "text/html": [
       "<div>\n",
       "<style scoped>\n",
       "    .dataframe tbody tr th:only-of-type {\n",
       "        vertical-align: middle;\n",
       "    }\n",
       "\n",
       "    .dataframe tbody tr th {\n",
       "        vertical-align: top;\n",
       "    }\n",
       "\n",
       "    .dataframe thead th {\n",
       "        text-align: right;\n",
       "    }\n",
       "</style>\n",
       "<table border=\"1\" class=\"dataframe\">\n",
       "  <thead>\n",
       "    <tr style=\"text-align: right;\">\n",
       "      <th></th>\n",
       "      <th>ClientId</th>\n",
       "      <th>AcquisitionDate</th>\n",
       "      <th>PaymentValue</th>\n",
       "      <th>Plan</th>\n",
       "    </tr>\n",
       "  </thead>\n",
       "  <tbody>\n",
       "    <tr>\n",
       "      <th>0</th>\n",
       "      <td>4049</td>\n",
       "      <td>05/03/2017</td>\n",
       "      <td>R$ 300,00</td>\n",
       "      <td>Bronze/3</td>\n",
       "    </tr>\n",
       "    <tr>\n",
       "      <th>1</th>\n",
       "      <td>1711</td>\n",
       "      <td>12/08/2018</td>\n",
       "      <td>R$ 750,00</td>\n",
       "      <td>Ouro/3</td>\n",
       "    </tr>\n",
       "    <tr>\n",
       "      <th>2</th>\n",
       "      <td>3643</td>\n",
       "      <td>01/01/2017</td>\n",
       "      <td>R$ 399,00</td>\n",
       "      <td>Platina/1</td>\n",
       "    </tr>\n",
       "    <tr>\n",
       "      <th>3</th>\n",
       "      <td>4683</td>\n",
       "      <td>09/06/2017</td>\n",
       "      <td>R$ 2394,00</td>\n",
       "      <td>Platina/6</td>\n",
       "    </tr>\n",
       "    <tr>\n",
       "      <th>4</th>\n",
       "      <td>4645</td>\n",
       "      <td>25/04/2018</td>\n",
       "      <td>R$ 250,00</td>\n",
       "      <td>Ouro/1</td>\n",
       "    </tr>\n",
       "  </tbody>\n",
       "</table>\n",
       "</div>"
      ],
      "text/plain": [
       "   ClientId AcquisitionDate PaymentValue       Plan\n",
       "0      4049      05/03/2017    R$ 300,00   Bronze/3\n",
       "1      1711      12/08/2018    R$ 750,00     Ouro/3\n",
       "2      3643      01/01/2017    R$ 399,00  Platina/1\n",
       "3      4683      09/06/2017   R$ 2394,00  Platina/6\n",
       "4      4645      25/04/2018    R$ 250,00     Ouro/1"
      ]
     },
     "execution_count": 16,
     "metadata": {},
     "output_type": "execute_result"
    }
   ],
   "source": [
    "df_payment.head()"
   ]
  },
  {
   "cell_type": "code",
   "execution_count": 17,
   "metadata": {},
   "outputs": [],
   "source": [
    "# Splitting the Plan Column into two: \"Plan\" and \"AcquiredMonths\"\n",
    "df_payment[['Plan', 'AcquiredMonths']] = df_payment.Plan.str.split('/', expand=True)"
   ]
  },
  {
   "cell_type": "code",
   "execution_count": 18,
   "metadata": {},
   "outputs": [
    {
     "data": {
      "text/html": [
       "<div>\n",
       "<style scoped>\n",
       "    .dataframe tbody tr th:only-of-type {\n",
       "        vertical-align: middle;\n",
       "    }\n",
       "\n",
       "    .dataframe tbody tr th {\n",
       "        vertical-align: top;\n",
       "    }\n",
       "\n",
       "    .dataframe thead th {\n",
       "        text-align: right;\n",
       "    }\n",
       "</style>\n",
       "<table border=\"1\" class=\"dataframe\">\n",
       "  <thead>\n",
       "    <tr style=\"text-align: right;\">\n",
       "      <th></th>\n",
       "      <th>ClientId</th>\n",
       "      <th>AcquisitionDate</th>\n",
       "      <th>PaymentValue</th>\n",
       "      <th>Plan</th>\n",
       "      <th>AcquiredMonths</th>\n",
       "    </tr>\n",
       "  </thead>\n",
       "  <tbody>\n",
       "    <tr>\n",
       "      <th>0</th>\n",
       "      <td>4049</td>\n",
       "      <td>05/03/2017</td>\n",
       "      <td>R$ 300,00</td>\n",
       "      <td>Bronze</td>\n",
       "      <td>3</td>\n",
       "    </tr>\n",
       "    <tr>\n",
       "      <th>1</th>\n",
       "      <td>1711</td>\n",
       "      <td>12/08/2018</td>\n",
       "      <td>R$ 750,00</td>\n",
       "      <td>Ouro</td>\n",
       "      <td>3</td>\n",
       "    </tr>\n",
       "    <tr>\n",
       "      <th>2</th>\n",
       "      <td>3643</td>\n",
       "      <td>01/01/2017</td>\n",
       "      <td>R$ 399,00</td>\n",
       "      <td>Platina</td>\n",
       "      <td>1</td>\n",
       "    </tr>\n",
       "    <tr>\n",
       "      <th>3</th>\n",
       "      <td>4683</td>\n",
       "      <td>09/06/2017</td>\n",
       "      <td>R$ 2394,00</td>\n",
       "      <td>Platina</td>\n",
       "      <td>6</td>\n",
       "    </tr>\n",
       "    <tr>\n",
       "      <th>4</th>\n",
       "      <td>4645</td>\n",
       "      <td>25/04/2018</td>\n",
       "      <td>R$ 250,00</td>\n",
       "      <td>Ouro</td>\n",
       "      <td>1</td>\n",
       "    </tr>\n",
       "  </tbody>\n",
       "</table>\n",
       "</div>"
      ],
      "text/plain": [
       "   ClientId AcquisitionDate PaymentValue     Plan AcquiredMonths\n",
       "0      4049      05/03/2017    R$ 300,00   Bronze              3\n",
       "1      1711      12/08/2018    R$ 750,00     Ouro              3\n",
       "2      3643      01/01/2017    R$ 399,00  Platina              1\n",
       "3      4683      09/06/2017   R$ 2394,00  Platina              6\n",
       "4      4645      25/04/2018    R$ 250,00     Ouro              1"
      ]
     },
     "execution_count": 18,
     "metadata": {},
     "output_type": "execute_result"
    }
   ],
   "source": [
    "df_payment.head()"
   ]
  },
  {
   "cell_type": "code",
   "execution_count": 22,
   "metadata": {},
   "outputs": [
    {
     "data": {
      "text/plain": [
       "array([<class 'str'>], dtype=object)"
      ]
     },
     "execution_count": 22,
     "metadata": {},
     "output_type": "execute_result"
    }
   ],
   "source": [
    "# Cleaning and Transforming the PaymentValue Column\n",
    "df_payment['PaymentValue'].apply(type).unique()"
   ]
  },
  {
   "cell_type": "code",
   "execution_count": 34,
   "metadata": {},
   "outputs": [],
   "source": [
    "df_payment['PaymentValue'] = df_payment['PaymentValue'].replace({'R\\$': '', ',': '.'}, regex=True).astype(float)"
   ]
  },
  {
   "cell_type": "code",
   "execution_count": 35,
   "metadata": {},
   "outputs": [
    {
     "data": {
      "text/html": [
       "<div>\n",
       "<style scoped>\n",
       "    .dataframe tbody tr th:only-of-type {\n",
       "        vertical-align: middle;\n",
       "    }\n",
       "\n",
       "    .dataframe tbody tr th {\n",
       "        vertical-align: top;\n",
       "    }\n",
       "\n",
       "    .dataframe thead th {\n",
       "        text-align: right;\n",
       "    }\n",
       "</style>\n",
       "<table border=\"1\" class=\"dataframe\">\n",
       "  <thead>\n",
       "    <tr style=\"text-align: right;\">\n",
       "      <th></th>\n",
       "      <th>ClientId</th>\n",
       "      <th>AcquisitionDate</th>\n",
       "      <th>PaymentValue</th>\n",
       "      <th>Plan</th>\n",
       "      <th>AcquiredMonths</th>\n",
       "    </tr>\n",
       "  </thead>\n",
       "  <tbody>\n",
       "    <tr>\n",
       "      <th>0</th>\n",
       "      <td>4049</td>\n",
       "      <td>05/03/2017</td>\n",
       "      <td>300.0</td>\n",
       "      <td>Bronze</td>\n",
       "      <td>3</td>\n",
       "    </tr>\n",
       "    <tr>\n",
       "      <th>1</th>\n",
       "      <td>1711</td>\n",
       "      <td>12/08/2018</td>\n",
       "      <td>750.0</td>\n",
       "      <td>Ouro</td>\n",
       "      <td>3</td>\n",
       "    </tr>\n",
       "    <tr>\n",
       "      <th>2</th>\n",
       "      <td>3643</td>\n",
       "      <td>01/01/2017</td>\n",
       "      <td>399.0</td>\n",
       "      <td>Platina</td>\n",
       "      <td>1</td>\n",
       "    </tr>\n",
       "    <tr>\n",
       "      <th>3</th>\n",
       "      <td>4683</td>\n",
       "      <td>09/06/2017</td>\n",
       "      <td>2394.0</td>\n",
       "      <td>Platina</td>\n",
       "      <td>6</td>\n",
       "    </tr>\n",
       "    <tr>\n",
       "      <th>4</th>\n",
       "      <td>4645</td>\n",
       "      <td>25/04/2018</td>\n",
       "      <td>250.0</td>\n",
       "      <td>Ouro</td>\n",
       "      <td>1</td>\n",
       "    </tr>\n",
       "  </tbody>\n",
       "</table>\n",
       "</div>"
      ],
      "text/plain": [
       "   ClientId AcquisitionDate  PaymentValue     Plan AcquiredMonths\n",
       "0      4049      05/03/2017         300.0   Bronze              3\n",
       "1      1711      12/08/2018         750.0     Ouro              3\n",
       "2      3643      01/01/2017         399.0  Platina              1\n",
       "3      4683      09/06/2017        2394.0  Platina              6\n",
       "4      4645      25/04/2018         250.0     Ouro              1"
      ]
     },
     "execution_count": 35,
     "metadata": {},
     "output_type": "execute_result"
    }
   ],
   "source": [
    "df_payment.head()"
   ]
  },
  {
   "cell_type": "code",
   "execution_count": 39,
   "metadata": {},
   "outputs": [],
   "source": [
    "df_payment['PlanValue'] = df_payment['PaymentValue']/df_payment['AcquiredMonths'].astype(int)"
   ]
  },
  {
   "cell_type": "code",
   "execution_count": 41,
   "metadata": {},
   "outputs": [
    {
     "data": {
      "text/html": [
       "<div>\n",
       "<style scoped>\n",
       "    .dataframe tbody tr th:only-of-type {\n",
       "        vertical-align: middle;\n",
       "    }\n",
       "\n",
       "    .dataframe tbody tr th {\n",
       "        vertical-align: top;\n",
       "    }\n",
       "\n",
       "    .dataframe thead th {\n",
       "        text-align: right;\n",
       "    }\n",
       "</style>\n",
       "<table border=\"1\" class=\"dataframe\">\n",
       "  <thead>\n",
       "    <tr style=\"text-align: right;\">\n",
       "      <th></th>\n",
       "      <th>ClientId</th>\n",
       "      <th>AcquisitionDate</th>\n",
       "      <th>PaymentValue</th>\n",
       "      <th>Plan</th>\n",
       "      <th>AcquiredMonths</th>\n",
       "      <th>PlanValue</th>\n",
       "    </tr>\n",
       "  </thead>\n",
       "  <tbody>\n",
       "    <tr>\n",
       "      <th>0</th>\n",
       "      <td>4049</td>\n",
       "      <td>05/03/2017</td>\n",
       "      <td>300.0</td>\n",
       "      <td>Bronze</td>\n",
       "      <td>3</td>\n",
       "      <td>100.0</td>\n",
       "    </tr>\n",
       "    <tr>\n",
       "      <th>1</th>\n",
       "      <td>1711</td>\n",
       "      <td>12/08/2018</td>\n",
       "      <td>750.0</td>\n",
       "      <td>Ouro</td>\n",
       "      <td>3</td>\n",
       "      <td>250.0</td>\n",
       "    </tr>\n",
       "    <tr>\n",
       "      <th>2</th>\n",
       "      <td>3643</td>\n",
       "      <td>01/01/2017</td>\n",
       "      <td>399.0</td>\n",
       "      <td>Platina</td>\n",
       "      <td>1</td>\n",
       "      <td>399.0</td>\n",
       "    </tr>\n",
       "    <tr>\n",
       "      <th>3</th>\n",
       "      <td>4683</td>\n",
       "      <td>09/06/2017</td>\n",
       "      <td>2394.0</td>\n",
       "      <td>Platina</td>\n",
       "      <td>6</td>\n",
       "      <td>399.0</td>\n",
       "    </tr>\n",
       "    <tr>\n",
       "      <th>4</th>\n",
       "      <td>4645</td>\n",
       "      <td>25/04/2018</td>\n",
       "      <td>250.0</td>\n",
       "      <td>Ouro</td>\n",
       "      <td>1</td>\n",
       "      <td>250.0</td>\n",
       "    </tr>\n",
       "  </tbody>\n",
       "</table>\n",
       "</div>"
      ],
      "text/plain": [
       "   ClientId AcquisitionDate  PaymentValue     Plan AcquiredMonths  PlanValue\n",
       "0      4049      05/03/2017         300.0   Bronze              3      100.0\n",
       "1      1711      12/08/2018         750.0     Ouro              3      250.0\n",
       "2      3643      01/01/2017         399.0  Platina              1      399.0\n",
       "3      4683      09/06/2017        2394.0  Platina              6      399.0\n",
       "4      4645      25/04/2018         250.0     Ouro              1      250.0"
      ]
     },
     "execution_count": 41,
     "metadata": {},
     "output_type": "execute_result"
    }
   ],
   "source": [
    "df_payment.head()"
   ]
  },
  {
   "cell_type": "code",
   "execution_count": 42,
   "metadata": {},
   "outputs": [],
   "source": [
    "df_plan = df_payment[['Plan', 'PlanValue']].drop_duplicates()"
   ]
  },
  {
   "cell_type": "code",
   "execution_count": 43,
   "metadata": {},
   "outputs": [
    {
     "data": {
      "text/html": [
       "<div>\n",
       "<style scoped>\n",
       "    .dataframe tbody tr th:only-of-type {\n",
       "        vertical-align: middle;\n",
       "    }\n",
       "\n",
       "    .dataframe tbody tr th {\n",
       "        vertical-align: top;\n",
       "    }\n",
       "\n",
       "    .dataframe thead th {\n",
       "        text-align: right;\n",
       "    }\n",
       "</style>\n",
       "<table border=\"1\" class=\"dataframe\">\n",
       "  <thead>\n",
       "    <tr style=\"text-align: right;\">\n",
       "      <th></th>\n",
       "      <th>Plan</th>\n",
       "      <th>PlanValue</th>\n",
       "    </tr>\n",
       "  </thead>\n",
       "  <tbody>\n",
       "    <tr>\n",
       "      <th>0</th>\n",
       "      <td>Bronze</td>\n",
       "      <td>100.0</td>\n",
       "    </tr>\n",
       "    <tr>\n",
       "      <th>1</th>\n",
       "      <td>Ouro</td>\n",
       "      <td>250.0</td>\n",
       "    </tr>\n",
       "    <tr>\n",
       "      <th>2</th>\n",
       "      <td>Platina</td>\n",
       "      <td>399.0</td>\n",
       "    </tr>\n",
       "    <tr>\n",
       "      <th>14</th>\n",
       "      <td>Prata</td>\n",
       "      <td>185.0</td>\n",
       "    </tr>\n",
       "  </tbody>\n",
       "</table>\n",
       "</div>"
      ],
      "text/plain": [
       "       Plan  PlanValue\n",
       "0    Bronze      100.0\n",
       "1      Ouro      250.0\n",
       "2   Platina      399.0\n",
       "14    Prata      185.0"
      ]
     },
     "execution_count": 43,
     "metadata": {},
     "output_type": "execute_result"
    }
   ],
   "source": [
    "df_plan.head()"
   ]
  },
  {
   "cell_type": "code",
   "execution_count": null,
   "metadata": {},
   "outputs": [],
   "source": []
  }
 ],
 "metadata": {
  "kernelspec": {
   "display_name": "Python 3",
   "language": "python",
   "name": "python3"
  },
  "language_info": {
   "codemirror_mode": {
    "name": "ipython",
    "version": 3
   },
   "file_extension": ".py",
   "mimetype": "text/x-python",
   "name": "python",
   "nbconvert_exporter": "python",
   "pygments_lexer": "ipython3",
   "version": "3.7.3"
  }
 },
 "nbformat": 4,
 "nbformat_minor": 2
}
